{
 "cells": [
  {
   "cell_type": "code",
   "execution_count": 2,
   "metadata": {},
   "outputs": [],
   "source": [
    "import pandas as pd\n",
    "import numpy as np\n",
    "\n",
    "from sklearn.preprocessing import OneHotEncoder, StandardScaler\n",
    "from sklearn.compose import ColumnTransformer\n",
    "from sklearn.pipeline import Pipeline\n",
    "from sklearn.model_selection import KFold\n",
    "\n",
    "from sklearn.linear_model import Ridge\n",
    "from sklearn.tree import DecisionTreeRegressor\n",
    "from sklearn.neural_network import MLPRegressor\n",
    "from sklearn.ensemble import RandomForestRegressor\n",
    "from xgboost import XGBRegressor\n",
    "\n",
    "import warnings\n",
    "warnings.filterwarnings(action='ignore')"
   ]
  },
  {
   "cell_type": "code",
   "execution_count": 3,
   "metadata": {},
   "outputs": [],
   "source": [
    "data = pd.read_csv('higher_ed_sal.csv')"
   ]
  },
  {
   "cell_type": "code",
   "execution_count": 4,
   "metadata": {},
   "outputs": [
    {
     "data": {
      "text/html": [
       "<div>\n",
       "<style scoped>\n",
       "    .dataframe tbody tr th:only-of-type {\n",
       "        vertical-align: middle;\n",
       "    }\n",
       "\n",
       "    .dataframe tbody tr th {\n",
       "        vertical-align: top;\n",
       "    }\n",
       "\n",
       "    .dataframe thead th {\n",
       "        text-align: right;\n",
       "    }\n",
       "</style>\n",
       "<table border=\"1\" class=\"dataframe\">\n",
       "  <thead>\n",
       "    <tr style=\"text-align: right;\">\n",
       "      <th></th>\n",
       "      <th>Name</th>\n",
       "      <th>School</th>\n",
       "      <th>Job Description</th>\n",
       "      <th>Department</th>\n",
       "      <th>Earnings</th>\n",
       "      <th>Year</th>\n",
       "    </tr>\n",
       "  </thead>\n",
       "  <tbody>\n",
       "    <tr>\n",
       "      <th>0</th>\n",
       "      <td>Don Potter</td>\n",
       "      <td>University of Akron</td>\n",
       "      <td>Assistant Lecturer</td>\n",
       "      <td>Social Work</td>\n",
       "      <td>2472.00</td>\n",
       "      <td>2019</td>\n",
       "    </tr>\n",
       "    <tr>\n",
       "      <th>1</th>\n",
       "      <td>Emily Potter</td>\n",
       "      <td>The Ohio State University</td>\n",
       "      <td>Administrative Assistant 3</td>\n",
       "      <td>Arts and Sciences | Chemistry and Biochemistry...</td>\n",
       "      <td>48538.02</td>\n",
       "      <td>2022</td>\n",
       "    </tr>\n",
       "    <tr>\n",
       "      <th>2</th>\n",
       "      <td>Carol Jean Potter</td>\n",
       "      <td>The Ohio State University</td>\n",
       "      <td>Associate Professor-Clinical</td>\n",
       "      <td>Pediatrics</td>\n",
       "      <td>22722.80</td>\n",
       "      <td>2013</td>\n",
       "    </tr>\n",
       "    <tr>\n",
       "      <th>3</th>\n",
       "      <td>Kim Potter</td>\n",
       "      <td>The Ohio State University</td>\n",
       "      <td>Manager 4, Compliance</td>\n",
       "      <td>Legal Affairs | Compliance</td>\n",
       "      <td>170143.44</td>\n",
       "      <td>2022</td>\n",
       "    </tr>\n",
       "    <tr>\n",
       "      <th>4</th>\n",
       "      <td>Graham Potter</td>\n",
       "      <td>Miami University</td>\n",
       "      <td>Building and Grounds Assistant</td>\n",
       "      <td>Assoc VP Housing,Dining,Rec,Bus Svc</td>\n",
       "      <td>3075.20</td>\n",
       "      <td>2012</td>\n",
       "    </tr>\n",
       "  </tbody>\n",
       "</table>\n",
       "</div>"
      ],
      "text/plain": [
       "                Name                     School  \\\n",
       "0         Don Potter        University of Akron   \n",
       "1       Emily Potter  The Ohio State University   \n",
       "2  Carol Jean Potter  The Ohio State University   \n",
       "3         Kim Potter  The Ohio State University   \n",
       "4      Graham Potter           Miami University   \n",
       "\n",
       "                  Job Description  \\\n",
       "0              Assistant Lecturer   \n",
       "1      Administrative Assistant 3   \n",
       "2    Associate Professor-Clinical   \n",
       "3           Manager 4, Compliance   \n",
       "4  Building and Grounds Assistant   \n",
       "\n",
       "                                          Department   Earnings  Year  \n",
       "0                                        Social Work    2472.00  2019  \n",
       "1  Arts and Sciences | Chemistry and Biochemistry...   48538.02  2022  \n",
       "2                                         Pediatrics   22722.80  2013  \n",
       "3                         Legal Affairs | Compliance  170143.44  2022  \n",
       "4                Assoc VP Housing,Dining,Rec,Bus Svc    3075.20  2012  "
      ]
     },
     "execution_count": 4,
     "metadata": {},
     "output_type": "execute_result"
    }
   ],
   "source": [
    "data.head()"
   ]
  },
  {
   "cell_type": "code",
   "execution_count": 5,
   "metadata": {},
   "outputs": [
    {
     "data": {
      "text/plain": [
       "(934348, 6)"
      ]
     },
     "execution_count": 5,
     "metadata": {},
     "output_type": "execute_result"
    }
   ],
   "source": [
    "data.shape"
   ]
  },
  {
   "cell_type": "code",
   "execution_count": 6,
   "metadata": {},
   "outputs": [
    {
     "name": "stdout",
     "output_type": "stream",
     "text": [
      "<class 'pandas.core.frame.DataFrame'>\n",
      "RangeIndex: 934348 entries, 0 to 934347\n",
      "Data columns (total 6 columns):\n",
      " #   Column           Non-Null Count   Dtype  \n",
      "---  ------           --------------   -----  \n",
      " 0   Name             934348 non-null  object \n",
      " 1   School           934348 non-null  object \n",
      " 2   Job Description  907680 non-null  object \n",
      " 3   Department       873896 non-null  object \n",
      " 4   Earnings         924673 non-null  float64\n",
      " 5   Year             934348 non-null  int64  \n",
      "dtypes: float64(1), int64(1), object(4)\n",
      "memory usage: 42.8+ MB\n"
     ]
    }
   ],
   "source": [
    "data.info()"
   ]
  },
  {
   "cell_type": "code",
   "execution_count": 7,
   "metadata": {},
   "outputs": [],
   "source": [
    "null_values_per_column = data.isnull().sum() * 100 / len(data)"
   ]
  },
  {
   "cell_type": "code",
   "execution_count": 8,
   "metadata": {},
   "outputs": [
    {
     "name": "stdout",
     "output_type": "stream",
     "text": [
      "Name               0.000000\n",
      "School             0.000000\n",
      "Job Description    2.854183\n",
      "Department         6.469966\n",
      "Earnings           1.035481\n",
      "Year               0.000000\n",
      "dtype: float64\n"
     ]
    }
   ],
   "source": [
    "print(null_values_per_column)"
   ]
  },
  {
   "cell_type": "code",
   "execution_count": 9,
   "metadata": {},
   "outputs": [],
   "source": [
    "data_cleaned = data.dropna()"
   ]
  },
  {
   "cell_type": "code",
   "execution_count": 10,
   "metadata": {},
   "outputs": [
    {
     "name": "stdout",
     "output_type": "stream",
     "text": [
      "<class 'pandas.core.frame.DataFrame'>\n",
      "Index: 848591 entries, 0 to 934347\n",
      "Data columns (total 6 columns):\n",
      " #   Column           Non-Null Count   Dtype  \n",
      "---  ------           --------------   -----  \n",
      " 0   Name             848591 non-null  object \n",
      " 1   School           848591 non-null  object \n",
      " 2   Job Description  848591 non-null  object \n",
      " 3   Department       848591 non-null  object \n",
      " 4   Earnings         848591 non-null  float64\n",
      " 5   Year             848591 non-null  int64  \n",
      "dtypes: float64(1), int64(1), object(4)\n",
      "memory usage: 45.3+ MB\n"
     ]
    }
   ],
   "source": [
    "data_cleaned.info()"
   ]
  },
  {
   "cell_type": "code",
   "execution_count": 11,
   "metadata": {},
   "outputs": [
    {
     "data": {
      "text/html": [
       "<div>\n",
       "<style scoped>\n",
       "    .dataframe tbody tr th:only-of-type {\n",
       "        vertical-align: middle;\n",
       "    }\n",
       "\n",
       "    .dataframe tbody tr th {\n",
       "        vertical-align: top;\n",
       "    }\n",
       "\n",
       "    .dataframe thead th {\n",
       "        text-align: right;\n",
       "    }\n",
       "</style>\n",
       "<table border=\"1\" class=\"dataframe\">\n",
       "  <thead>\n",
       "    <tr style=\"text-align: right;\">\n",
       "      <th></th>\n",
       "      <th>Name</th>\n",
       "      <th>School</th>\n",
       "      <th>Job Description</th>\n",
       "      <th>Department</th>\n",
       "      <th>Earnings</th>\n",
       "      <th>Year</th>\n",
       "    </tr>\n",
       "  </thead>\n",
       "  <tbody>\n",
       "    <tr>\n",
       "      <th>count</th>\n",
       "      <td>848591</td>\n",
       "      <td>848591</td>\n",
       "      <td>848591</td>\n",
       "      <td>848591</td>\n",
       "      <td>8.485910e+05</td>\n",
       "      <td>848591.000000</td>\n",
       "    </tr>\n",
       "    <tr>\n",
       "      <th>unique</th>\n",
       "      <td>246341</td>\n",
       "      <td>13</td>\n",
       "      <td>33832</td>\n",
       "      <td>9215</td>\n",
       "      <td>NaN</td>\n",
       "      <td>NaN</td>\n",
       "    </tr>\n",
       "    <tr>\n",
       "      <th>top</th>\n",
       "      <td>Michael Smith</td>\n",
       "      <td>The Ohio State University</td>\n",
       "      <td>Professor</td>\n",
       "      <td>University Hospitals</td>\n",
       "      <td>NaN</td>\n",
       "      <td>NaN</td>\n",
       "    </tr>\n",
       "    <tr>\n",
       "      <th>freq</th>\n",
       "      <td>64</td>\n",
       "      <td>423931</td>\n",
       "      <td>25419</td>\n",
       "      <td>45236</td>\n",
       "      <td>NaN</td>\n",
       "      <td>NaN</td>\n",
       "    </tr>\n",
       "    <tr>\n",
       "      <th>mean</th>\n",
       "      <td>NaN</td>\n",
       "      <td>NaN</td>\n",
       "      <td>NaN</td>\n",
       "      <td>NaN</td>\n",
       "      <td>5.466475e+04</td>\n",
       "      <td>2017.091136</td>\n",
       "    </tr>\n",
       "    <tr>\n",
       "      <th>std</th>\n",
       "      <td>NaN</td>\n",
       "      <td>NaN</td>\n",
       "      <td>NaN</td>\n",
       "      <td>NaN</td>\n",
       "      <td>6.274090e+04</td>\n",
       "      <td>3.219944</td>\n",
       "    </tr>\n",
       "    <tr>\n",
       "      <th>min</th>\n",
       "      <td>NaN</td>\n",
       "      <td>NaN</td>\n",
       "      <td>NaN</td>\n",
       "      <td>NaN</td>\n",
       "      <td>2.000000e-02</td>\n",
       "      <td>2011.000000</td>\n",
       "    </tr>\n",
       "    <tr>\n",
       "      <th>25%</th>\n",
       "      <td>NaN</td>\n",
       "      <td>NaN</td>\n",
       "      <td>NaN</td>\n",
       "      <td>NaN</td>\n",
       "      <td>1.950878e+04</td>\n",
       "      <td>2014.000000</td>\n",
       "    </tr>\n",
       "    <tr>\n",
       "      <th>50%</th>\n",
       "      <td>NaN</td>\n",
       "      <td>NaN</td>\n",
       "      <td>NaN</td>\n",
       "      <td>NaN</td>\n",
       "      <td>4.400688e+04</td>\n",
       "      <td>2017.000000</td>\n",
       "    </tr>\n",
       "    <tr>\n",
       "      <th>75%</th>\n",
       "      <td>NaN</td>\n",
       "      <td>NaN</td>\n",
       "      <td>NaN</td>\n",
       "      <td>NaN</td>\n",
       "      <td>7.101113e+04</td>\n",
       "      <td>2020.000000</td>\n",
       "    </tr>\n",
       "    <tr>\n",
       "      <th>max</th>\n",
       "      <td>NaN</td>\n",
       "      <td>NaN</td>\n",
       "      <td>NaN</td>\n",
       "      <td>NaN</td>\n",
       "      <td>8.021377e+06</td>\n",
       "      <td>2022.000000</td>\n",
       "    </tr>\n",
       "  </tbody>\n",
       "</table>\n",
       "</div>"
      ],
      "text/plain": [
       "                 Name                     School Job Description  \\\n",
       "count          848591                     848591          848591   \n",
       "unique         246341                         13           33832   \n",
       "top     Michael Smith  The Ohio State University       Professor   \n",
       "freq               64                     423931           25419   \n",
       "mean              NaN                        NaN             NaN   \n",
       "std               NaN                        NaN             NaN   \n",
       "min               NaN                        NaN             NaN   \n",
       "25%               NaN                        NaN             NaN   \n",
       "50%               NaN                        NaN             NaN   \n",
       "75%               NaN                        NaN             NaN   \n",
       "max               NaN                        NaN             NaN   \n",
       "\n",
       "                  Department      Earnings           Year  \n",
       "count                 848591  8.485910e+05  848591.000000  \n",
       "unique                  9215           NaN            NaN  \n",
       "top     University Hospitals           NaN            NaN  \n",
       "freq                   45236           NaN            NaN  \n",
       "mean                     NaN  5.466475e+04    2017.091136  \n",
       "std                      NaN  6.274090e+04       3.219944  \n",
       "min                      NaN  2.000000e-02    2011.000000  \n",
       "25%                      NaN  1.950878e+04    2014.000000  \n",
       "50%                      NaN  4.400688e+04    2017.000000  \n",
       "75%                      NaN  7.101113e+04    2020.000000  \n",
       "max                      NaN  8.021377e+06    2022.000000  "
      ]
     },
     "execution_count": 11,
     "metadata": {},
     "output_type": "execute_result"
    }
   ],
   "source": [
    "data_cleaned.describe(include='all')"
   ]
  },
  {
   "cell_type": "code",
   "execution_count": 12,
   "metadata": {},
   "outputs": [],
   "source": [
    "# Dropping Name as we don't want to predict values based on Name\n",
    "data_cleaned = data_cleaned.drop('Name',axis=1)"
   ]
  },
  {
   "cell_type": "code",
   "execution_count": 13,
   "metadata": {},
   "outputs": [],
   "source": [
    "# Shuffle data to avoid bias, improve generalization, and fair evaluation\n",
    "# Shuffle 100% of data without replacement and reset index afterwards\n",
    "# drop=True to avoid creating new columns\n",
    "data_cleaned = data_cleaned.sample(frac=1.0).reset_index(drop=True)"
   ]
  },
  {
   "cell_type": "code",
   "execution_count": 14,
   "metadata": {},
   "outputs": [],
   "source": [
    "X = data_cleaned.drop('Earnings',axis=1)\n",
    "y = data_cleaned['Earnings']"
   ]
  },
  {
   "cell_type": "code",
   "execution_count": 15,
   "metadata": {},
   "outputs": [
    {
     "name": "stdout",
     "output_type": "stream",
     "text": [
      "<class 'pandas.core.frame.DataFrame'>\n",
      "RangeIndex: 848591 entries, 0 to 848590\n",
      "Data columns (total 4 columns):\n",
      " #   Column           Non-Null Count   Dtype \n",
      "---  ------           --------------   ----- \n",
      " 0   School           848591 non-null  object\n",
      " 1   Job Description  848591 non-null  object\n",
      " 2   Department       848591 non-null  object\n",
      " 3   Year             848591 non-null  int64 \n",
      "dtypes: int64(1), object(3)\n",
      "memory usage: 25.9+ MB\n"
     ]
    }
   ],
   "source": [
    "X.info()"
   ]
  },
  {
   "cell_type": "code",
   "execution_count": 16,
   "metadata": {},
   "outputs": [],
   "source": [
    "# Use K Fold validation instead of traditioinal train-test split\n",
    "# Train-test split we might get test set that isn't representative of train set\n",
    "# K Fold: every training sample has a chance to be part of the test set\n",
    "\n",
    "def build_pipeline(regressor):\n",
    "    # regressor is model\n",
    "    \n",
    "    # transform categorical features into numeric\n",
    "    # pipeline built to create more robust, efficient, and reusable machine learning workflows\n",
    "    nominal_transformer = Pipeline(steps=[('onehot', OneHotEncoder(handle_unknown='ignore'))]) \n",
    "    # handle_unknown = 'ignore' for circumstances when unknown value shows up to avoid throwing error\n",
    "\n",
    "    # tell model which features are categorical in dataframe\n",
    "    cat_cols = ['School', 'Job Description', 'Department']\n",
    "    preprocessor = ColumnTransformer(transformers=[\n",
    "        ('nominal', nominal_transformer, cat_cols)], remainder='passthrough')\n",
    "    # remainder='passthrough' to avoid dropping columns that aren't listed in cat_cols\n",
    "    \n",
    "    # create model\n",
    "    model = Pipeline(steps=[\n",
    "        ('preprocessor', preprocessor),\n",
    "        ('scaler', StandardScaler(with_mean=False)), # scales data, so that each column has the same range of values \n",
    "        ('regressor', regressor)\n",
    "    ])\n",
    "\n",
    "    return model"
   ]
  },
  {
   "cell_type": "code",
   "execution_count": 17,
   "metadata": {},
   "outputs": [],
   "source": [
    "models = {\n",
    "    'Linear Regression (Ridge)': build_pipeline(Ridge()), # fits a linear model to the data, adding a regularization term to prevent overfitting\n",
    "    'Decision Tree': build_pipeline(DecisionTreeRegressor()), # creates a tree-like model of decisions and their possible consequences\n",
    "    'XGBoost': build_pipeline(XGBRegressor()), # builds decision trees in series (one after another) with a focus on reducing bias and variance\n",
    "    # 'Neural Network': build_pipeline(MLPRegressor()), # a complex model inspired by the human brain, composed of interconnected layers of artificial neurons\n",
    "    # 'Random Forest': build_pipeline(RandomForestRegressor()), # builds decision trees in parallel\n",
    "    # 'GradientBoostingRegressor': build_pipeline(GradientBoostingRegressor()) # builds decision trees in series (one after another)\n",
    "    }"
   ]
  },
  {
   "cell_type": "code",
   "execution_count": 18,
   "metadata": {},
   "outputs": [],
   "source": [
    "# divides data set into K sections, standard is 5 or 10\n",
    "# you get a variaty of test sets using K Fold\n",
    "# larger K, the more data the model will have to train on, the less data the model will have to test on\n",
    "# high K is more computational expensive\n",
    "\n",
    "def evaluate_model(model, X, y):\n",
    "    kf = KFold(n_splits=5)\n",
    "    rmses = []\n",
    "    rs2s = []\n",
    "    # split x into 5 sections, provides indexes for each split\n",
    "    # iteration 1: test index = 1st/5 of data, train index = 4/5\n",
    "    # iteration 2: test index = 2nd/5 of data, train index = 3rd/5\n",
    "    for train_idx, test_idx in kf.split(X): \n",
    "        # Fit model\n",
    "        # X.iloc[train_idx, :] - train_idx=rows, : all cols\n",
    "        # y.iloc[train_idx] - no need for cols, since it's one dimensional series\n",
    "        model.fit(X.iloc[train_idx, :], y.iloc[train_idx])\n",
    "\n",
    "        # Make predictions\n",
    "        pred = model.predict(X.iloc[test_idx, :])\n",
    "\n",
    "        # Calculate Root Mean Square Error (RMSE)\n",
    "        rmse = np.sqrt(np.mean((y.iloc[test_idx]-pred)**2))\n",
    "        rmses.append(rmse)\n",
    "\n",
    "        # Calculate R2\n",
    "        rs2 = 1 - (np.sum((y.iloc[test_idx]-pred)**2)/np.sum((y.iloc[test_idx]-y.iloc[test_idx].mean())**2)) \n",
    "        rs2s.append(rs2)\n",
    "\n",
    "    # Return average RMSE and R2\n",
    "    return np.mean(rmses), np.mean(rs2s)\n"
   ]
  },
  {
   "cell_type": "code",
   "execution_count": 19,
   "metadata": {},
   "outputs": [
    {
     "name": "stdout",
     "output_type": "stream",
     "text": [
      "Linear Regression (Ridge) RMSE: 37390.64\n",
      "Decision Tree RMSE: 35911.95\n",
      "XGBoost RMSE: 43532.81\n"
     ]
    }
   ],
   "source": [
    "for name, model in models.items():\n",
    "    print(name + ' RMSE: {:.2F}'.format(evaluate_model(model, X, y)[0]))"
   ]
  },
  {
   "cell_type": "code",
   "execution_count": 20,
   "metadata": {},
   "outputs": [
    {
     "name": "stdout",
     "output_type": "stream",
     "text": [
      "Linear Regression (Ridge) R2: 0.64430\n",
      "Decision Tree R2: 0.65266\n",
      "XGBoost R2: 0.51805\n"
     ]
    }
   ],
   "source": [
    "for name, model in models.items():\n",
    "    print(name + ' R2: {:.5F}'.format(evaluate_model(model, X, y)[1]))"
   ]
  },
  {
   "cell_type": "markdown",
   "metadata": {},
   "source": [
    "The Decision Tree has a lower RMSE, indicating that its predictions are, on average, closer to the actual earnings values.\n",
    "\n",
    "The Decision Tree also has a higher R², suggesting that it explains a larger proportion of the variance in earnings compared to the Ridge Regression model.\n",
    "\n",
    "Therefore, the decision tree model has the best performance."
   ]
  },
  {
   "cell_type": "code",
   "execution_count": 21,
   "metadata": {},
   "outputs": [],
   "source": [
    "new_employees = pd.DataFrame({\n",
    "    'School': ['Miami University', 'Miami University'],\n",
    "    'Job Description': ['Professor','Professor'],\n",
    "    'Department': ['Pediatrics','Social Work'],\n",
    "    'Year': [2024, 2024]\n",
    "})"
   ]
  },
  {
   "cell_type": "code",
   "execution_count": 22,
   "metadata": {},
   "outputs": [],
   "source": [
    "# Make prediction on new dataset\n",
    "predict_earnings = models['Decision Tree'].predict(new_employees)"
   ]
  },
  {
   "cell_type": "code",
   "execution_count": 23,
   "metadata": {},
   "outputs": [],
   "source": [
    "new_employees['Predicted Earnings'] = predict_earnings"
   ]
  },
  {
   "cell_type": "code",
   "execution_count": 24,
   "metadata": {},
   "outputs": [
    {
     "data": {
      "text/html": [
       "<div>\n",
       "<style scoped>\n",
       "    .dataframe tbody tr th:only-of-type {\n",
       "        vertical-align: middle;\n",
       "    }\n",
       "\n",
       "    .dataframe tbody tr th {\n",
       "        vertical-align: top;\n",
       "    }\n",
       "\n",
       "    .dataframe thead th {\n",
       "        text-align: right;\n",
       "    }\n",
       "</style>\n",
       "<table border=\"1\" class=\"dataframe\">\n",
       "  <thead>\n",
       "    <tr style=\"text-align: right;\">\n",
       "      <th></th>\n",
       "      <th>School</th>\n",
       "      <th>Job Description</th>\n",
       "      <th>Department</th>\n",
       "      <th>Year</th>\n",
       "      <th>Predicted Earnings</th>\n",
       "    </tr>\n",
       "  </thead>\n",
       "  <tbody>\n",
       "    <tr>\n",
       "      <th>0</th>\n",
       "      <td>Miami University</td>\n",
       "      <td>Professor</td>\n",
       "      <td>Pediatrics</td>\n",
       "      <td>2024</td>\n",
       "      <td>115850.1325</td>\n",
       "    </tr>\n",
       "    <tr>\n",
       "      <th>1</th>\n",
       "      <td>Miami University</td>\n",
       "      <td>Professor</td>\n",
       "      <td>Social Work</td>\n",
       "      <td>2024</td>\n",
       "      <td>115850.1325</td>\n",
       "    </tr>\n",
       "  </tbody>\n",
       "</table>\n",
       "</div>"
      ],
      "text/plain": [
       "             School Job Description   Department  Year  Predicted Earnings\n",
       "0  Miami University       Professor   Pediatrics  2024         115850.1325\n",
       "1  Miami University       Professor  Social Work  2024         115850.1325"
      ]
     },
     "execution_count": 24,
     "metadata": {},
     "output_type": "execute_result"
    }
   ],
   "source": [
    "new_employees.head()"
   ]
  },
  {
   "cell_type": "markdown",
   "metadata": {},
   "source": [
    "Testing H20 Library to identify best performing models"
   ]
  },
  {
   "cell_type": "code",
   "execution_count": 25,
   "metadata": {},
   "outputs": [],
   "source": [
    "import h2o\n",
    "from h2o.automl import H2OAutoML"
   ]
  },
  {
   "cell_type": "code",
   "execution_count": 26,
   "metadata": {},
   "outputs": [
    {
     "name": "stdout",
     "output_type": "stream",
     "text": [
      "Checking whether there is an H2O instance running at http://localhost:54321..... not found.\n",
      "Attempting to start a local H2O server...\n",
      "; Java HotSpot(TM) 64-Bit Server VM (build 24.0.1+9-30, mixed mode, sharing)\n",
      "  Starting server from C:\\Users\\MFPADIL\\AppData\\Local\\Programs\\Python\\Python313\\Lib\\site-packages\\h2o\\backend\\bin\\h2o.jar\n",
      "  Ice root: C:\\Users\\MFPADIL\\AppData\\Local\\Temp\\tmpl6_o5lpn\n",
      "  JVM stdout: C:\\Users\\MFPADIL\\AppData\\Local\\Temp\\tmpl6_o5lpn\\h2o_MFPADIL_started_from_python.out\n",
      "  JVM stderr: C:\\Users\\MFPADIL\\AppData\\Local\\Temp\\tmpl6_o5lpn\\h2o_MFPADIL_started_from_python.err\n",
      "  Server is running at http://127.0.0.1:54321\n",
      "Connecting to H2O server at http://127.0.0.1:54321 ... successful.\n"
     ]
    },
    {
     "data": {
      "text/html": [
       "\n",
       "<style>\n",
       "\n",
       "#h2o-table-1.h2o-container {\n",
       "  overflow-x: auto;\n",
       "}\n",
       "#h2o-table-1 .h2o-table {\n",
       "  /* width: 100%; */\n",
       "  margin-top: 1em;\n",
       "  margin-bottom: 1em;\n",
       "}\n",
       "#h2o-table-1 .h2o-table caption {\n",
       "  white-space: nowrap;\n",
       "  caption-side: top;\n",
       "  text-align: left;\n",
       "  /* margin-left: 1em; */\n",
       "  margin: 0;\n",
       "  font-size: larger;\n",
       "}\n",
       "#h2o-table-1 .h2o-table thead {\n",
       "  white-space: nowrap; \n",
       "  position: sticky;\n",
       "  top: 0;\n",
       "  box-shadow: 0 -1px inset;\n",
       "}\n",
       "#h2o-table-1 .h2o-table tbody {\n",
       "  overflow: auto;\n",
       "}\n",
       "#h2o-table-1 .h2o-table th,\n",
       "#h2o-table-1 .h2o-table td {\n",
       "  text-align: right;\n",
       "  /* border: 1px solid; */\n",
       "}\n",
       "#h2o-table-1 .h2o-table tr:nth-child(even) {\n",
       "  /* background: #F5F5F5 */\n",
       "}\n",
       "\n",
       "</style>      \n",
       "<div id=\"h2o-table-1\" class=\"h2o-container\">\n",
       "  <table class=\"h2o-table\">\n",
       "    <caption></caption>\n",
       "    <thead></thead>\n",
       "    <tbody><tr><td>H2O_cluster_uptime:</td>\n",
       "<td>02 secs</td></tr>\n",
       "<tr><td>H2O_cluster_timezone:</td>\n",
       "<td>America/New_York</td></tr>\n",
       "<tr><td>H2O_data_parsing_timezone:</td>\n",
       "<td>UTC</td></tr>\n",
       "<tr><td>H2O_cluster_version:</td>\n",
       "<td>3.46.0.7</td></tr>\n",
       "<tr><td>H2O_cluster_version_age:</td>\n",
       "<td>1 month and 1 day</td></tr>\n",
       "<tr><td>H2O_cluster_name:</td>\n",
       "<td>H2O_from_python_MFPADIL_55gcnh</td></tr>\n",
       "<tr><td>H2O_cluster_total_nodes:</td>\n",
       "<td>1</td></tr>\n",
       "<tr><td>H2O_cluster_free_memory:</td>\n",
       "<td>3.916 Gb</td></tr>\n",
       "<tr><td>H2O_cluster_total_cores:</td>\n",
       "<td>8</td></tr>\n",
       "<tr><td>H2O_cluster_allowed_cores:</td>\n",
       "<td>8</td></tr>\n",
       "<tr><td>H2O_cluster_status:</td>\n",
       "<td>locked, healthy</td></tr>\n",
       "<tr><td>H2O_connection_url:</td>\n",
       "<td>http://127.0.0.1:54321</td></tr>\n",
       "<tr><td>H2O_connection_proxy:</td>\n",
       "<td>{\"http\": null, \"https\": null}</td></tr>\n",
       "<tr><td>H2O_internal_security:</td>\n",
       "<td>False</td></tr>\n",
       "<tr><td>Python_version:</td>\n",
       "<td>3.13.1 final</td></tr></tbody>\n",
       "  </table>\n",
       "</div>\n"
      ],
      "text/plain": [
       "--------------------------  ------------------------------\n",
       "H2O_cluster_uptime:         02 secs\n",
       "H2O_cluster_timezone:       America/New_York\n",
       "H2O_data_parsing_timezone:  UTC\n",
       "H2O_cluster_version:        3.46.0.7\n",
       "H2O_cluster_version_age:    1 month and 1 day\n",
       "H2O_cluster_name:           H2O_from_python_MFPADIL_55gcnh\n",
       "H2O_cluster_total_nodes:    1\n",
       "H2O_cluster_free_memory:    3.916 Gb\n",
       "H2O_cluster_total_cores:    8\n",
       "H2O_cluster_allowed_cores:  8\n",
       "H2O_cluster_status:         locked, healthy\n",
       "H2O_connection_url:         http://127.0.0.1:54321\n",
       "H2O_connection_proxy:       {\"http\": null, \"https\": null}\n",
       "H2O_internal_security:      False\n",
       "Python_version:             3.13.1 final\n",
       "--------------------------  ------------------------------"
      ]
     },
     "metadata": {},
     "output_type": "display_data"
    }
   ],
   "source": [
    "h2o.init()"
   ]
  },
  {
   "cell_type": "code",
   "execution_count": 28,
   "metadata": {},
   "outputs": [
    {
     "name": "stdout",
     "output_type": "stream",
     "text": [
      "Parse progress: |████████████████████████████████████████████████████████████████| (done) 100%\n",
      "AutoML progress: |\n",
      "15:21:01.886: AutoML: XGBoost is not available; skipping it.\n",
      "\n",
      "███████████████████████████████████████████████████████████████| (done) 100%\n",
      "model_id                           rmse          mse      mae      rmsle    mean_residual_deviance\n",
      "GBM_1_AutoML_2_20250429_152101  38083.3  1.45034e+09  16196.6  nan                     1.45034e+09\n",
      "GBM_2_AutoML_2_20250429_152101  38716.5  1.49897e+09  18830.7  nan                     1.49897e+09\n",
      "DRF_1_AutoML_2_20250429_152101  45883.6  2.10531e+09  22728.1    1.15113               2.10531e+09\n",
      "GLM_1_AutoML_2_20250429_152101  62634.6  3.9231e+09   35836.7    1.53867               3.9231e+09\n",
      "[4 rows x 6 columns]\n",
      "\n",
      "Parse progress: |████████████████████████████████████████████████████████████████| (done) 100%\n",
      "gbm prediction progress: |███████████████████████████████████████████████████████| (done) 100%\n",
      "             School Job Description   Department  Year  Predicted Earnings\n",
      "0  Miami University       Professor   Pediatrics  2024       108114.288016\n",
      "1  Miami University       Professor  Social Work  2024       103247.384005\n"
     ]
    },
    {
     "name": "stderr",
     "output_type": "stream",
     "text": [
      "c:\\Users\\MFPADIL\\AppData\\Local\\Programs\\Python\\Python313\\Lib\\site-packages\\h2o\\frame.py:1983: H2ODependencyWarning: Converting H2O frame to pandas dataframe using single-thread.  For faster conversion using multi-thread, install polars and pyarrow and use it as pandas_df = h2o_df.as_data_frame(use_multi_thread=True)\n",
      "\n",
      "  warnings.warn(\"Converting H2O frame to pandas dataframe using single-thread.  For faster conversion using\"\n"
     ]
    }
   ],
   "source": [
    "# Step 2: Convert pandas DataFrame to H2OFrame\n",
    "# train = h2o.H2OFrame(data_cleaned)\n",
    "train = h2o.H2OFrame(data_cleaned.sample(frac=0.5))  # Use 50% of the data for training\n",
    "# Note: H2O requires a specific format for the data, so we convert it to H2OFrame\n",
    "\n",
    "# Step 3: Define predictors and target\n",
    "predictors = [col for col in train.columns if col != 'Earnings']  # All columns except target\n",
    "target = 'Earnings'\n",
    "\n",
    "# Step 4: Train H2O AutoML\n",
    "aml = H2OAutoML(max_models=10, seed=1, max_runtime_secs=600, exclude_algos=[\"StackedEnsemble\"]) \n",
    "# you can adjust max_models to control the number of models to train\n",
    "# max_runtime_secs to limit the time spent on training\n",
    "# exclude_algos=[\"StackedEnsemble\"] to avoid ensemble models for simplicity\n",
    "aml.train(x=predictors, y=target, training_frame=train, )\n",
    "\n",
    "# Step 5: View leaderboard\n",
    "lb = aml.leaderboard\n",
    "print(lb)\n",
    "\n",
    "# Step 6: Make predictions on new data\n",
    "new_employees_h2o = h2o.H2OFrame(new_employees)\n",
    "predictions = aml.leader.predict(new_employees_h2o)\n",
    "new_employees['Predicted Earnings'] = predictions.as_data_frame().values.flatten()\n",
    "\n",
    "# Display predictions\n",
    "print(new_employees)"
   ]
  },
  {
   "cell_type": "code",
   "execution_count": null,
   "metadata": {},
   "outputs": [],
   "source": []
  }
 ],
 "metadata": {
  "kernelspec": {
   "display_name": "Python 3",
   "language": "python",
   "name": "python3"
  },
  "language_info": {
   "codemirror_mode": {
    "name": "ipython",
    "version": 3
   },
   "file_extension": ".py",
   "mimetype": "text/x-python",
   "name": "python",
   "nbconvert_exporter": "python",
   "pygments_lexer": "ipython3",
   "version": "3.13.1"
  }
 },
 "nbformat": 4,
 "nbformat_minor": 2
}
