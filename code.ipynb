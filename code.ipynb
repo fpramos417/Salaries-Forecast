{
 "cells": [
  {
   "cell_type": "code",
   "execution_count": 1,
   "metadata": {},
   "outputs": [],
   "source": [
    "import pandas as pd\n",
    "import numpy as np\n",
    "\n",
    "from sklearn.preprocessing import OneHotEncoder, StandardScaler\n",
    "from sklearn.compose import ColumnTransformer\n",
    "from sklearn.pipeline import Pipeline\n",
    "from sklearn.model_selection import KFold\n",
    "\n",
    "from sklearn.linear_model import Ridge\n",
    "from sklearn.tree import DecisionTreeRegressor\n",
    "from sklearn.neural_network import MLPRegressor\n",
    "from sklearn.ensemble import RandomForestRegressor, GradientBoostingRegressor\n",
    "\n",
    "import warnings\n",
    "warnings.filterwarnings(action='ignore')"
   ]
  },
  {
   "cell_type": "code",
   "execution_count": 2,
   "metadata": {},
   "outputs": [],
   "source": [
    "data = pd.read_csv('higher_ed_sal.csv')"
   ]
  },
  {
   "cell_type": "code",
   "execution_count": 3,
   "metadata": {},
   "outputs": [
    {
     "data": {
      "text/html": [
       "<div>\n",
       "<style scoped>\n",
       "    .dataframe tbody tr th:only-of-type {\n",
       "        vertical-align: middle;\n",
       "    }\n",
       "\n",
       "    .dataframe tbody tr th {\n",
       "        vertical-align: top;\n",
       "    }\n",
       "\n",
       "    .dataframe thead th {\n",
       "        text-align: right;\n",
       "    }\n",
       "</style>\n",
       "<table border=\"1\" class=\"dataframe\">\n",
       "  <thead>\n",
       "    <tr style=\"text-align: right;\">\n",
       "      <th></th>\n",
       "      <th>Name</th>\n",
       "      <th>School</th>\n",
       "      <th>Job Description</th>\n",
       "      <th>Department</th>\n",
       "      <th>Earnings</th>\n",
       "      <th>Year</th>\n",
       "    </tr>\n",
       "  </thead>\n",
       "  <tbody>\n",
       "    <tr>\n",
       "      <th>0</th>\n",
       "      <td>Don Potter</td>\n",
       "      <td>University of Akron</td>\n",
       "      <td>Assistant Lecturer</td>\n",
       "      <td>Social Work</td>\n",
       "      <td>2472.00</td>\n",
       "      <td>2019</td>\n",
       "    </tr>\n",
       "    <tr>\n",
       "      <th>1</th>\n",
       "      <td>Emily Potter</td>\n",
       "      <td>The Ohio State University</td>\n",
       "      <td>Administrative Assistant 3</td>\n",
       "      <td>Arts and Sciences | Chemistry and Biochemistry...</td>\n",
       "      <td>48538.02</td>\n",
       "      <td>2022</td>\n",
       "    </tr>\n",
       "    <tr>\n",
       "      <th>2</th>\n",
       "      <td>Carol Jean Potter</td>\n",
       "      <td>The Ohio State University</td>\n",
       "      <td>Associate Professor-Clinical</td>\n",
       "      <td>Pediatrics</td>\n",
       "      <td>22722.80</td>\n",
       "      <td>2013</td>\n",
       "    </tr>\n",
       "    <tr>\n",
       "      <th>3</th>\n",
       "      <td>Kim Potter</td>\n",
       "      <td>The Ohio State University</td>\n",
       "      <td>Manager 4, Compliance</td>\n",
       "      <td>Legal Affairs | Compliance</td>\n",
       "      <td>170143.44</td>\n",
       "      <td>2022</td>\n",
       "    </tr>\n",
       "    <tr>\n",
       "      <th>4</th>\n",
       "      <td>Graham Potter</td>\n",
       "      <td>Miami University</td>\n",
       "      <td>Building and Grounds Assistant</td>\n",
       "      <td>Assoc VP Housing,Dining,Rec,Bus Svc</td>\n",
       "      <td>3075.20</td>\n",
       "      <td>2012</td>\n",
       "    </tr>\n",
       "  </tbody>\n",
       "</table>\n",
       "</div>"
      ],
      "text/plain": [
       "                Name                     School  \\\n",
       "0         Don Potter        University of Akron   \n",
       "1       Emily Potter  The Ohio State University   \n",
       "2  Carol Jean Potter  The Ohio State University   \n",
       "3         Kim Potter  The Ohio State University   \n",
       "4      Graham Potter           Miami University   \n",
       "\n",
       "                  Job Description  \\\n",
       "0              Assistant Lecturer   \n",
       "1      Administrative Assistant 3   \n",
       "2    Associate Professor-Clinical   \n",
       "3           Manager 4, Compliance   \n",
       "4  Building and Grounds Assistant   \n",
       "\n",
       "                                          Department   Earnings  Year  \n",
       "0                                        Social Work    2472.00  2019  \n",
       "1  Arts and Sciences | Chemistry and Biochemistry...   48538.02  2022  \n",
       "2                                         Pediatrics   22722.80  2013  \n",
       "3                         Legal Affairs | Compliance  170143.44  2022  \n",
       "4                Assoc VP Housing,Dining,Rec,Bus Svc    3075.20  2012  "
      ]
     },
     "execution_count": 3,
     "metadata": {},
     "output_type": "execute_result"
    }
   ],
   "source": [
    "data.head()"
   ]
  },
  {
   "cell_type": "code",
   "execution_count": 4,
   "metadata": {},
   "outputs": [
    {
     "data": {
      "text/plain": [
       "(934348, 6)"
      ]
     },
     "execution_count": 4,
     "metadata": {},
     "output_type": "execute_result"
    }
   ],
   "source": [
    "data.shape"
   ]
  },
  {
   "cell_type": "code",
   "execution_count": 5,
   "metadata": {},
   "outputs": [
    {
     "name": "stdout",
     "output_type": "stream",
     "text": [
      "<class 'pandas.core.frame.DataFrame'>\n",
      "RangeIndex: 934348 entries, 0 to 934347\n",
      "Data columns (total 6 columns):\n",
      " #   Column           Non-Null Count   Dtype  \n",
      "---  ------           --------------   -----  \n",
      " 0   Name             934348 non-null  object \n",
      " 1   School           934348 non-null  object \n",
      " 2   Job Description  907680 non-null  object \n",
      " 3   Department       873896 non-null  object \n",
      " 4   Earnings         924673 non-null  float64\n",
      " 5   Year             934348 non-null  int64  \n",
      "dtypes: float64(1), int64(1), object(4)\n",
      "memory usage: 42.8+ MB\n"
     ]
    }
   ],
   "source": [
    "data.info()"
   ]
  },
  {
   "cell_type": "code",
   "execution_count": 6,
   "metadata": {},
   "outputs": [],
   "source": [
    "null_values_per_column = data.isnull().sum() * 100 / len(data)"
   ]
  },
  {
   "cell_type": "code",
   "execution_count": 7,
   "metadata": {},
   "outputs": [
    {
     "name": "stdout",
     "output_type": "stream",
     "text": [
      "Name               0.000000\n",
      "School             0.000000\n",
      "Job Description    2.854183\n",
      "Department         6.469966\n",
      "Earnings           1.035481\n",
      "Year               0.000000\n",
      "dtype: float64\n"
     ]
    }
   ],
   "source": [
    "print(null_values_per_column)"
   ]
  },
  {
   "cell_type": "code",
   "execution_count": 8,
   "metadata": {},
   "outputs": [],
   "source": [
    "data_cleaned = data.dropna()"
   ]
  },
  {
   "cell_type": "code",
   "execution_count": 9,
   "metadata": {},
   "outputs": [
    {
     "name": "stdout",
     "output_type": "stream",
     "text": [
      "<class 'pandas.core.frame.DataFrame'>\n",
      "Index: 848591 entries, 0 to 934347\n",
      "Data columns (total 6 columns):\n",
      " #   Column           Non-Null Count   Dtype  \n",
      "---  ------           --------------   -----  \n",
      " 0   Name             848591 non-null  object \n",
      " 1   School           848591 non-null  object \n",
      " 2   Job Description  848591 non-null  object \n",
      " 3   Department       848591 non-null  object \n",
      " 4   Earnings         848591 non-null  float64\n",
      " 5   Year             848591 non-null  int64  \n",
      "dtypes: float64(1), int64(1), object(4)\n",
      "memory usage: 45.3+ MB\n"
     ]
    }
   ],
   "source": [
    "data_cleaned.info()"
   ]
  },
  {
   "cell_type": "code",
   "execution_count": 10,
   "metadata": {},
   "outputs": [
    {
     "data": {
      "text/html": [
       "<div>\n",
       "<style scoped>\n",
       "    .dataframe tbody tr th:only-of-type {\n",
       "        vertical-align: middle;\n",
       "    }\n",
       "\n",
       "    .dataframe tbody tr th {\n",
       "        vertical-align: top;\n",
       "    }\n",
       "\n",
       "    .dataframe thead th {\n",
       "        text-align: right;\n",
       "    }\n",
       "</style>\n",
       "<table border=\"1\" class=\"dataframe\">\n",
       "  <thead>\n",
       "    <tr style=\"text-align: right;\">\n",
       "      <th></th>\n",
       "      <th>Name</th>\n",
       "      <th>School</th>\n",
       "      <th>Job Description</th>\n",
       "      <th>Department</th>\n",
       "      <th>Earnings</th>\n",
       "      <th>Year</th>\n",
       "    </tr>\n",
       "  </thead>\n",
       "  <tbody>\n",
       "    <tr>\n",
       "      <th>count</th>\n",
       "      <td>848591</td>\n",
       "      <td>848591</td>\n",
       "      <td>848591</td>\n",
       "      <td>848591</td>\n",
       "      <td>8.485910e+05</td>\n",
       "      <td>848591.000000</td>\n",
       "    </tr>\n",
       "    <tr>\n",
       "      <th>unique</th>\n",
       "      <td>246341</td>\n",
       "      <td>13</td>\n",
       "      <td>33832</td>\n",
       "      <td>9215</td>\n",
       "      <td>NaN</td>\n",
       "      <td>NaN</td>\n",
       "    </tr>\n",
       "    <tr>\n",
       "      <th>top</th>\n",
       "      <td>Michael Smith</td>\n",
       "      <td>The Ohio State University</td>\n",
       "      <td>Professor</td>\n",
       "      <td>University Hospitals</td>\n",
       "      <td>NaN</td>\n",
       "      <td>NaN</td>\n",
       "    </tr>\n",
       "    <tr>\n",
       "      <th>freq</th>\n",
       "      <td>64</td>\n",
       "      <td>423931</td>\n",
       "      <td>25419</td>\n",
       "      <td>45236</td>\n",
       "      <td>NaN</td>\n",
       "      <td>NaN</td>\n",
       "    </tr>\n",
       "    <tr>\n",
       "      <th>mean</th>\n",
       "      <td>NaN</td>\n",
       "      <td>NaN</td>\n",
       "      <td>NaN</td>\n",
       "      <td>NaN</td>\n",
       "      <td>5.466475e+04</td>\n",
       "      <td>2017.091136</td>\n",
       "    </tr>\n",
       "    <tr>\n",
       "      <th>std</th>\n",
       "      <td>NaN</td>\n",
       "      <td>NaN</td>\n",
       "      <td>NaN</td>\n",
       "      <td>NaN</td>\n",
       "      <td>6.274090e+04</td>\n",
       "      <td>3.219944</td>\n",
       "    </tr>\n",
       "    <tr>\n",
       "      <th>min</th>\n",
       "      <td>NaN</td>\n",
       "      <td>NaN</td>\n",
       "      <td>NaN</td>\n",
       "      <td>NaN</td>\n",
       "      <td>2.000000e-02</td>\n",
       "      <td>2011.000000</td>\n",
       "    </tr>\n",
       "    <tr>\n",
       "      <th>25%</th>\n",
       "      <td>NaN</td>\n",
       "      <td>NaN</td>\n",
       "      <td>NaN</td>\n",
       "      <td>NaN</td>\n",
       "      <td>1.950878e+04</td>\n",
       "      <td>2014.000000</td>\n",
       "    </tr>\n",
       "    <tr>\n",
       "      <th>50%</th>\n",
       "      <td>NaN</td>\n",
       "      <td>NaN</td>\n",
       "      <td>NaN</td>\n",
       "      <td>NaN</td>\n",
       "      <td>4.400688e+04</td>\n",
       "      <td>2017.000000</td>\n",
       "    </tr>\n",
       "    <tr>\n",
       "      <th>75%</th>\n",
       "      <td>NaN</td>\n",
       "      <td>NaN</td>\n",
       "      <td>NaN</td>\n",
       "      <td>NaN</td>\n",
       "      <td>7.101113e+04</td>\n",
       "      <td>2020.000000</td>\n",
       "    </tr>\n",
       "    <tr>\n",
       "      <th>max</th>\n",
       "      <td>NaN</td>\n",
       "      <td>NaN</td>\n",
       "      <td>NaN</td>\n",
       "      <td>NaN</td>\n",
       "      <td>8.021377e+06</td>\n",
       "      <td>2022.000000</td>\n",
       "    </tr>\n",
       "  </tbody>\n",
       "</table>\n",
       "</div>"
      ],
      "text/plain": [
       "                 Name                     School Job Description  \\\n",
       "count          848591                     848591          848591   \n",
       "unique         246341                         13           33832   \n",
       "top     Michael Smith  The Ohio State University       Professor   \n",
       "freq               64                     423931           25419   \n",
       "mean              NaN                        NaN             NaN   \n",
       "std               NaN                        NaN             NaN   \n",
       "min               NaN                        NaN             NaN   \n",
       "25%               NaN                        NaN             NaN   \n",
       "50%               NaN                        NaN             NaN   \n",
       "75%               NaN                        NaN             NaN   \n",
       "max               NaN                        NaN             NaN   \n",
       "\n",
       "                  Department      Earnings           Year  \n",
       "count                 848591  8.485910e+05  848591.000000  \n",
       "unique                  9215           NaN            NaN  \n",
       "top     University Hospitals           NaN            NaN  \n",
       "freq                   45236           NaN            NaN  \n",
       "mean                     NaN  5.466475e+04    2017.091136  \n",
       "std                      NaN  6.274090e+04       3.219944  \n",
       "min                      NaN  2.000000e-02    2011.000000  \n",
       "25%                      NaN  1.950878e+04    2014.000000  \n",
       "50%                      NaN  4.400688e+04    2017.000000  \n",
       "75%                      NaN  7.101113e+04    2020.000000  \n",
       "max                      NaN  8.021377e+06    2022.000000  "
      ]
     },
     "execution_count": 10,
     "metadata": {},
     "output_type": "execute_result"
    }
   ],
   "source": [
    "data_cleaned.describe(include='all')"
   ]
  },
  {
   "cell_type": "code",
   "execution_count": 11,
   "metadata": {},
   "outputs": [],
   "source": [
    "# Dropping Name as we don't want to predict values based on Name\n",
    "data_cleaned = data_cleaned.drop('Name',axis=1)"
   ]
  },
  {
   "cell_type": "code",
   "execution_count": 12,
   "metadata": {},
   "outputs": [],
   "source": [
    "# Shuffle data to avoid bias, improve generalization, and fair evaluation\n",
    "# Shuffle 100% of data without replacement and reset index afterwards\n",
    "# drop=True to avoid creating new columns\n",
    "data_cleaned = data_cleaned.sample(frac=1.0).reset_index(drop=True)"
   ]
  },
  {
   "cell_type": "code",
   "execution_count": 13,
   "metadata": {},
   "outputs": [],
   "source": [
    "X = data_cleaned.drop('Earnings',axis=1)\n",
    "y = data_cleaned['Earnings']"
   ]
  },
  {
   "cell_type": "code",
   "execution_count": 14,
   "metadata": {},
   "outputs": [
    {
     "name": "stdout",
     "output_type": "stream",
     "text": [
      "<class 'pandas.core.frame.DataFrame'>\n",
      "RangeIndex: 848591 entries, 0 to 848590\n",
      "Data columns (total 4 columns):\n",
      " #   Column           Non-Null Count   Dtype \n",
      "---  ------           --------------   ----- \n",
      " 0   School           848591 non-null  object\n",
      " 1   Job Description  848591 non-null  object\n",
      " 2   Department       848591 non-null  object\n",
      " 3   Year             848591 non-null  int64 \n",
      "dtypes: int64(1), object(3)\n",
      "memory usage: 25.9+ MB\n"
     ]
    }
   ],
   "source": [
    "X.info()"
   ]
  },
  {
   "cell_type": "code",
   "execution_count": 15,
   "metadata": {},
   "outputs": [],
   "source": [
    "# Use K Fold validation instead of traditioinal train-test split\n",
    "# Train-test split we might get test set that isn't representative of train set\n",
    "# K Fold: every training sample has a chance to be part of the test set\n",
    "\n",
    "def build_pipeline(regressor):\n",
    "    # regressor is model\n",
    "    \n",
    "    # transform categorical features into numeric\n",
    "    # pipeline built to create more robust, efficient, and reusable machine learning workflows\n",
    "    nominal_transformer = Pipeline(steps=[('onehot', OneHotEncoder(handle_unknown='ignore'))]) \n",
    "    # handle_unknown = 'ignore' for circumstances when unknown value shows up to avoid throwing error\n",
    "\n",
    "    # tell model which features are categorical in dataframe\n",
    "    cat_cols = ['School', 'Job Description', 'Department']\n",
    "    preprocessor = ColumnTransformer(transformers=[\n",
    "        ('nominal', nominal_transformer, cat_cols)], remainder='passthrough')\n",
    "    # remainder='passthrough' to avoid dropping columns that aren't listed in cat_cols\n",
    "    \n",
    "    # create model\n",
    "    model = Pipeline(steps=[\n",
    "        ('preprocessor', preprocessor),\n",
    "        ('scaler', StandardScaler(with_mean=False)), # scales data, so that each column has the same range of values \n",
    "        ('regressor', regressor)\n",
    "    ])\n",
    "\n",
    "    return model"
   ]
  },
  {
   "cell_type": "code",
   "execution_count": 16,
   "metadata": {},
   "outputs": [],
   "source": [
    "models = {\n",
    "    'Linear Regression (Ridge)': build_pipeline(Ridge()), # fits a linear model to the data, adding a regularization term to prevent overfitting\n",
    "    'Decision Tree': build_pipeline(DecisionTreeRegressor()), # creates a tree-like model of decisions and their possible consequences\n",
    "    # 'Neural Network': build_pipeline(MLPRegressor()), # a complex model inspired by the human brain, composed of interconnected layers of artificial neurons\n",
    "    # 'Random Forest': build_pipeline(RandomForestRegressor()), # builds decision trees in parallel\n",
    "    # 'GradientBoostingRegressor': build_pipeline(GradientBoostingRegressor()) # builds decision trees in series (one after another)\n",
    "    }"
   ]
  },
  {
   "cell_type": "code",
   "execution_count": 17,
   "metadata": {},
   "outputs": [],
   "source": [
    "# divides data set into K sections, standard is 5 or 10\n",
    "# you get a variaty of test sets using K Fold\n",
    "# larger K, the more data the model will have to train on, the less data the model will have to test on\n",
    "# high K is more computational expensive\n",
    "\n",
    "def evaluate_model(model, X, y):\n",
    "    kf = KFold(n_splits=5)\n",
    "    rmses = []\n",
    "    rs2s = []\n",
    "    # split x into 5 sections, provides indexes for each split\n",
    "    # iteration 1: test index = 1st/5 of data, train index = 4/5\n",
    "    # iteration 2: test index = 2nd/5 of data, train index = 3rd/5\n",
    "    for train_idx, test_idx in kf.split(X): \n",
    "        # Fit model\n",
    "        # X.iloc[train_idx, :] - train_idx=rows, : all cols\n",
    "        # y.iloc[train_idx] - no need for cols, since it's one dimensional series\n",
    "        model.fit(X.iloc[train_idx, :], y.iloc[train_idx])\n",
    "\n",
    "        # Make predictions\n",
    "        pred = model.predict(X.iloc[test_idx, :])\n",
    "\n",
    "        # Calculate Root Mean Square Error (RMSE)\n",
    "        rmse = np.sqrt(np.mean((y.iloc[test_idx]-pred)**2))\n",
    "        rmses.append(rmse)\n",
    "\n",
    "        # Calculate R2\n",
    "        rs2 = 1 - (np.sum((y.iloc[test_idx]-pred)**2)/np.sum((y.iloc[test_idx]-y.iloc[test_idx].mean())**2)) \n",
    "        rs2s.append(rs2)\n",
    "\n",
    "    # Return average RMSE and R2\n",
    "    return np.mean(rmses), np.mean(rs2s)\n"
   ]
  },
  {
   "cell_type": "code",
   "execution_count": 18,
   "metadata": {},
   "outputs": [
    {
     "name": "stdout",
     "output_type": "stream",
     "text": [
      "Linear Regression (Ridge) RMSE: 37371.18\n",
      "Decision Tree RMSE: 35762.50\n"
     ]
    }
   ],
   "source": [
    "for name, model in models.items():\n",
    "    print(name + ' RMSE: {:.2F}'.format(evaluate_model(model, X, y)[0]))"
   ]
  },
  {
   "cell_type": "code",
   "execution_count": 19,
   "metadata": {},
   "outputs": [
    {
     "name": "stdout",
     "output_type": "stream",
     "text": [
      "Linear Regression (Ridge) R2: 0.64492\n",
      "Decision Tree R2: 0.67571\n"
     ]
    }
   ],
   "source": [
    "for name, model in models.items():\n",
    "    print(name + ' R2: {:.5F}'.format(evaluate_model(model, X, y)[1]))"
   ]
  },
  {
   "cell_type": "markdown",
   "metadata": {},
   "source": [
    "The Decision Tree has a lower RMSE, indicating that its predictions are, on average, closer to the actual earnings values.\n",
    "\n",
    "The Decision Tree also has a higher R², suggesting that it explains a larger proportion of the variance in earnings compared to the Ridge Regression model.\n",
    "\n",
    "Therefore, the decision tree model has the best performance."
   ]
  },
  {
   "cell_type": "code",
   "execution_count": 20,
   "metadata": {},
   "outputs": [],
   "source": [
    "new_employees = pd.DataFrame({\n",
    "    'School': ['Miami University', 'Miami University'],\n",
    "    'Job Description': ['Professor','Professor'],\n",
    "    'Department': ['Pediatrics','Social Work'],\n",
    "    'Year': [2024, 2024]\n",
    "})"
   ]
  },
  {
   "cell_type": "code",
   "execution_count": 23,
   "metadata": {},
   "outputs": [],
   "source": [
    "# Make prediction on new dataset\n",
    "predict_earnings = models['Decision Tree'].predict(new_employees)"
   ]
  },
  {
   "cell_type": "code",
   "execution_count": 25,
   "metadata": {},
   "outputs": [],
   "source": [
    "new_employees['Predicted Earnings'] = predict_earnings"
   ]
  },
  {
   "cell_type": "code",
   "execution_count": 26,
   "metadata": {},
   "outputs": [
    {
     "data": {
      "text/html": [
       "<div>\n",
       "<style scoped>\n",
       "    .dataframe tbody tr th:only-of-type {\n",
       "        vertical-align: middle;\n",
       "    }\n",
       "\n",
       "    .dataframe tbody tr th {\n",
       "        vertical-align: top;\n",
       "    }\n",
       "\n",
       "    .dataframe thead th {\n",
       "        text-align: right;\n",
       "    }\n",
       "</style>\n",
       "<table border=\"1\" class=\"dataframe\">\n",
       "  <thead>\n",
       "    <tr style=\"text-align: right;\">\n",
       "      <th></th>\n",
       "      <th>School</th>\n",
       "      <th>Job Description</th>\n",
       "      <th>Department</th>\n",
       "      <th>Year</th>\n",
       "      <th>Predicted Earnings</th>\n",
       "    </tr>\n",
       "  </thead>\n",
       "  <tbody>\n",
       "    <tr>\n",
       "      <th>0</th>\n",
       "      <td>Miami University</td>\n",
       "      <td>Professor</td>\n",
       "      <td>Pediatrics</td>\n",
       "      <td>2024</td>\n",
       "      <td>215563.320</td>\n",
       "    </tr>\n",
       "    <tr>\n",
       "      <th>1</th>\n",
       "      <td>Miami University</td>\n",
       "      <td>Professor</td>\n",
       "      <td>Social Work</td>\n",
       "      <td>2024</td>\n",
       "      <td>99886.175</td>\n",
       "    </tr>\n",
       "  </tbody>\n",
       "</table>\n",
       "</div>"
      ],
      "text/plain": [
       "             School Job Description   Department  Year  Predicted Earnings\n",
       "0  Miami University       Professor   Pediatrics  2024          215563.320\n",
       "1  Miami University       Professor  Social Work  2024           99886.175"
      ]
     },
     "execution_count": 26,
     "metadata": {},
     "output_type": "execute_result"
    }
   ],
   "source": [
    "new_employees.head()"
   ]
  }
 ],
 "metadata": {
  "kernelspec": {
   "display_name": ".venv",
   "language": "python",
   "name": "python3"
  },
  "language_info": {
   "codemirror_mode": {
    "name": "ipython",
    "version": 3
   },
   "file_extension": ".py",
   "mimetype": "text/x-python",
   "name": "python",
   "nbconvert_exporter": "python",
   "pygments_lexer": "ipython3",
   "version": "3.12.2"
  }
 },
 "nbformat": 4,
 "nbformat_minor": 2
}
